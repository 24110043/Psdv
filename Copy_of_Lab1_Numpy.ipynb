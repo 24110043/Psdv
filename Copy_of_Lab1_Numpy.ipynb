{
  "nbformat": 4,
  "nbformat_minor": 0,
  "metadata": {
    "colab": {
      "provenance": []
    },
    "kernelspec": {
      "name": "python3",
      "display_name": "Python 3"
    },
    "language_info": {
      "name": "python"
    }
  },
  "cells": [
    {
      "cell_type": "code",
      "source": [
        "import numpy as np\n",
        "import matplotlib.pyplot as plt\n",
        "%matplotlib inline\n",
        "%config InlineBackend.figure_format = 'retina'\n"
      ],
      "metadata": {
        "id": "IZLwNgdS-ndV"
      },
      "execution_count": null,
      "outputs": []
    },
    {
      "cell_type": "markdown",
      "source": [
        "\n",
        "# **Creating Arrays**\n",
        "\n",
        "#### 1. Create a 1D array with 20 random integers between 1 and 100.\n",
        "**Hint:** Use the `np.random.randint()` function, specifying the range and size.\n",
        "#### 2. Create a 5x5 matrix where all the border elements are 1, and the inside elements are 0.\n",
        "#### 3. Create a diagonal matrix with values `[1, 2, 3, 4]` on the diagonal.\n",
        "#### 4. Create an array of shape (3, 3) where each row contains numbers from 1 to 3.\n",
        "**Hint:** Use `np.tile()` to repeat arrays along rows or columns.\n",
        "#### 5. Create a 1D array with alternating 0s and 1s of length 10.\n",
        "#### 6. Create a 3x3 matrix with random integers between 10 and 20, and set the datatype to `int32`.\n",
        "\n",
        "```\n",
        "# This is formatted as code\n",
        "```\n",
        "\n"
      ],
      "metadata": {
        "id": "AnUxKd3FsdSJ"
      }
    },
    {
      "cell_type": "code",
      "source": [
        "import numpy as np\n",
        "y=np.random.randint(1,100,20)\n",
        "print(y)"
      ],
      "metadata": {
        "colab": {
          "base_uri": "https://localhost:8080/"
        },
        "outputId": "b844c373-406b-433c-8075-ae5b146a133e",
        "id": "wU4BmCR0GjOq"
      },
      "execution_count": null,
      "outputs": [
        {
          "output_type": "stream",
          "name": "stdout",
          "text": [
            "[86 47 86 83 45 72 94 42 84 90 80 29 80 60 89 52 61 55 43 33]\n"
          ]
        }
      ]
    },
    {
      "cell_type": "code",
      "source": [
        "np.__version__"
      ],
      "metadata": {
        "colab": {
          "base_uri": "https://localhost:8080/",
          "height": 36
        },
        "outputId": "3daf5c30-3b7d-40dc-9d71-d9a193925509",
        "id": "BksNCNHyGsWi"
      },
      "execution_count": null,
      "outputs": [
        {
          "output_type": "execute_result",
          "data": {
            "text/plain": [
              "'1.26.4'"
            ],
            "application/vnd.google.colaboratory.intrinsic+json": {
              "type": "string"
            }
          },
          "metadata": {},
          "execution_count": 4
        }
      ]
    },
    {
      "cell_type": "code",
      "source": [
        "import numpy as np\n",
        "grid=np.array([1 ,1, 1, 1 ,1, 1 ,0 ,0, 0, 1, 1, 0 ,0, 0, 1, 1, 0, 0 ,0 ,1, 1, 1, 1 ,1, 1])\n",
        "grid.reshape(5,5)\n",
        "print(grid.reshape(5,5))\n"
      ],
      "metadata": {
        "colab": {
          "base_uri": "https://localhost:8080/"
        },
        "outputId": "4ddd9b8f-fccb-4b66-a513-1adfdd97b7ec",
        "id": "pwJtClq2GyrF"
      },
      "execution_count": null,
      "outputs": [
        {
          "output_type": "stream",
          "name": "stdout",
          "text": [
            "[[1 1 1 1 1]\n",
            " [1 0 0 0 1]\n",
            " [1 0 0 0 1]\n",
            " [1 0 0 0 1]\n",
            " [1 1 1 1 1]]\n"
          ]
        }
      ]
    },
    {
      "cell_type": "code",
      "source": [
        "import numpy as np\n",
        "diagnol_matrix=np.diag([1,2,3,4])\n",
        "print(diagnol_matrix)"
      ],
      "metadata": {
        "colab": {
          "base_uri": "https://localhost:8080/"
        },
        "outputId": "d49a034c-e815-452a-be5a-53a6f4a8b507",
        "id": "x1Ni-6s1G6A3"
      },
      "execution_count": null,
      "outputs": [
        {
          "output_type": "stream",
          "name": "stdout",
          "text": [
            "[[1 0 0 0]\n",
            " [0 2 0 0]\n",
            " [0 0 3 0]\n",
            " [0 0 0 4]]\n"
          ]
        }
      ]
    },
    {
      "cell_type": "code",
      "source": [
        "import numpy as np\n",
        "row=np.array([1,2,3])\n",
        "matrix=np.tile(row,(3,1))\n",
        "print(matrix)"
      ],
      "metadata": {
        "colab": {
          "base_uri": "https://localhost:8080/"
        },
        "outputId": "9e20c8dc-7f47-46fd-8919-65160cd30f11",
        "id": "JxDqvyUHHO0t"
      },
      "execution_count": null,
      "outputs": [
        {
          "output_type": "stream",
          "name": "stdout",
          "text": [
            "[[1 2 3]\n",
            " [1 2 3]\n",
            " [1 2 3]]\n"
          ]
        }
      ]
    },
    {
      "cell_type": "code",
      "source": [
        "import numpy as np\n",
        "chain=np.array([1,0])\n",
        "matrix=np.tile(chain,(1,5))\n",
        "print(matrix)"
      ],
      "metadata": {
        "colab": {
          "base_uri": "https://localhost:8080/"
        },
        "id": "H4m3jNxi-KTZ",
        "outputId": "234494a1-3574-48d9-c7d8-b6c498f322a7"
      },
      "execution_count": null,
      "outputs": [
        {
          "output_type": "stream",
          "name": "stdout",
          "text": [
            "[[1 0 1 0 1 0 1 0 1 0]]\n"
          ]
        }
      ]
    },
    {
      "cell_type": "code",
      "source": [
        "import numpy as np\n",
        "matrix=np.random.randint(10,21,(3,3)),np.int32\n",
        "print(matrix)\n"
      ],
      "metadata": {
        "colab": {
          "base_uri": "https://localhost:8080/"
        },
        "outputId": "39677d1d-3fe0-4afe-dcdb-9995459b279d",
        "id": "fsFIiZb0HmTF"
      },
      "execution_count": null,
      "outputs": [
        {
          "output_type": "stream",
          "name": "stdout",
          "text": [
            "(array([[18, 15, 13],\n",
            "       [16, 17, 11],\n",
            "       [11, 18, 11]]), <class 'numpy.int32'>)\n"
          ]
        }
      ]
    },
    {
      "cell_type": "markdown",
      "source": [
        "# **Array Attributes**\n",
        "\n",
        "####1. Create a NumPy array of shape (4, 5) filled with random integers between 1 and 10. Now use an appropriate attribute of an array and find the following:\n",
        "\n",
        "  1. shape of the array\n",
        "  2. size of the array\n",
        "  3. number of dimensions\n",
        "  4. data type\n",
        "\n",
        "####2. Write a Python function that takes an array as input and returns the number of dimensions (ndim) of the array.\n",
        "Test the function with the following arrays:\n",
        "\n",
        "  1. A 1D array with 5 elements.\n",
        "  2. A 2D array of size (3x4).\n",
        "  3. A 3D array of size (2x3x4).\n",
        "\n",
        "\n",
        "####3. Create a NumPy array with the elements between 1 to 100 and use the dtype attribute to find out the data type of the elements. Modify the program to create arrays with elements of type float and string, and observe the changes in dtype.\n",
        "\n",
        "####4. Write a Python function that:\n",
        "  1. Creates a 6×3 array of integers using NumPy.\n",
        "  2. Prints the shape of the array using the shape attribute.\n",
        "  3. Reshapes the array to 3×6 and prints the new shape.\n",
        "\n",
        "\n",
        "\n",
        "####5. Write a program to:\n",
        "  1. Create an array of any size with all elements being 0 and use the appropriate attribute to print the size (in bytes) of each element in the array.\n",
        "  2. Create an array of any size with elements between 1 to 10 and print the size.\n",
        "  3. Create another array with floating-point numbers of any size and observe how the size changes.\n",
        "\n"
      ],
      "metadata": {
        "id": "DkYcM2eukdxR"
      }
    },
    {
      "cell_type": "code",
      "source": [
        "import numpy as np\n",
        "matrix=np.random.randint(1,11,(4,5))\n",
        "print(matrix)\n",
        "print(np.sum(matrix,axis=1))\n",
        "print(matrix.shape)\n",
        "print(matrix.size)\n",
        "print(matrix.ndim)\n",
        "print(matrix.dtype)"
      ],
      "metadata": {
        "id": "xAEVs0pSBzn1",
        "colab": {
          "base_uri": "https://localhost:8080/"
        },
        "outputId": "75060b94-4d15-4382-8e90-de793c77452e"
      },
      "execution_count": 30,
      "outputs": [
        {
          "output_type": "stream",
          "name": "stdout",
          "text": [
            "[[ 7 10  6  4  8]\n",
            " [ 3  6  8  6  1]\n",
            " [ 6  6  6  9  8]\n",
            " [ 1  2  5  9 10]]\n",
            "[35 24 35 27]\n",
            "(4, 5)\n",
            "20\n",
            "2\n",
            "int64\n"
          ]
        }
      ]
    },
    {
      "cell_type": "code",
      "source": [
        "import numpy as np\n",
        "def ndim(array):\n",
        "  return array.ndim\n",
        "array1=np.array([1,2,3,4,5])\n",
        "array2=np.array([[1,2,3,4],[5,6,7,8]])\n",
        "array3=np.random.randint(1,21,(2,3,4))\n",
        "print(ndim(array1))\n",
        "print(ndim(array2))\n",
        "print(ndim(array3))\n",
        "\n",
        "\n",
        "\n"
      ],
      "metadata": {
        "id": "uT5X680WB4qD",
        "colab": {
          "base_uri": "https://localhost:8080/"
        },
        "outputId": "6b043362-26d9-4730-88ef-2dca2a20cee4"
      },
      "execution_count": 42,
      "outputs": [
        {
          "output_type": "stream",
          "name": "stdout",
          "text": [
            "1\n",
            "2\n",
            "3\n"
          ]
        }
      ]
    },
    {
      "cell_type": "code",
      "source": [
        "import numpy as py\n",
        "a=np.arange(1,101)\n",
        "print(a)\n",
        "print(a.dtype)\n",
        "b=a.astype(float)\n",
        "#c=np.array(str(i) for i in range(1,101))\n",
        "c=a.astype(str)\n",
        "print(b.dtype)\n",
        "print(c.dtype)"
      ],
      "metadata": {
        "colab": {
          "base_uri": "https://localhost:8080/"
        },
        "id": "F9qGjfi0SSCl",
        "outputId": "afc40d7e-f76e-4f43-f9ca-d55d29fc1984"
      },
      "execution_count": 46,
      "outputs": [
        {
          "output_type": "stream",
          "name": "stdout",
          "text": [
            "[  1   2   3   4   5   6   7   8   9  10  11  12  13  14  15  16  17  18\n",
            "  19  20  21  22  23  24  25  26  27  28  29  30  31  32  33  34  35  36\n",
            "  37  38  39  40  41  42  43  44  45  46  47  48  49  50  51  52  53  54\n",
            "  55  56  57  58  59  60  61  62  63  64  65  66  67  68  69  70  71  72\n",
            "  73  74  75  76  77  78  79  80  81  82  83  84  85  86  87  88  89  90\n",
            "  91  92  93  94  95  96  97  98  99 100]\n",
            "int64\n",
            "float64\n",
            "<U21\n"
          ]
        }
      ]
    },
    {
      "cell_type": "code",
      "source": [
        "arr=np.array([1,2,3,4,5,6,7,8,9,10,11,12,13,14,15,16,17,18])\n",
        "arr_1=arr.reshape(6,3)\n",
        "print(arr_1)\n",
        "print(arr_1.shape)\n",
        "arr_2=arr_1.reshape(3,6)\n",
        "print(arr_2)\n",
        "print(arr_2.shape)"
      ],
      "metadata": {
        "id": "zUwjEpGg8zTA",
        "colab": {
          "base_uri": "https://localhost:8080/"
        },
        "outputId": "9bb3a822-80c0-4a92-a735-d555b843c731"
      },
      "execution_count": 33,
      "outputs": [
        {
          "output_type": "stream",
          "name": "stdout",
          "text": [
            "[[ 1  2  3]\n",
            " [ 4  5  6]\n",
            " [ 7  8  9]\n",
            " [10 11 12]\n",
            " [13 14 15]\n",
            " [16 17 18]]\n",
            "(6, 3)\n",
            "[[ 1  2  3  4  5  6]\n",
            " [ 7  8  9 10 11 12]\n",
            " [13 14 15 16 17 18]]\n",
            "(3, 6)\n"
          ]
        }
      ]
    },
    {
      "cell_type": "code",
      "source": [
        "arr=np.zeros(10)\n",
        "print(arr)\n",
        "print(arr.itemsize)\n",
        "matrix=np.random.randint(1,10,(4,5))\n",
        "print(matrix)\n",
        "print(matrix.size)\n",
        "a=np.array([[0.0,1.0,1.0,2.0,3.0],[2.0,3.0,4.0,2.0,3.3],[5.0,6.0,7.0,2.0,4.5],[8.0,9.0,10.0,2.0,5.8]])\n",
        "print(a)\n",
        "print(a.size)"
      ],
      "metadata": {
        "id": "g4WpucTc8y48",
        "colab": {
          "base_uri": "https://localhost:8080/"
        },
        "outputId": "e2dbcbc9-1956-4c1f-d150-4a11cf8dd477"
      },
      "execution_count": 34,
      "outputs": [
        {
          "output_type": "stream",
          "name": "stdout",
          "text": [
            "[0. 0. 0. 0. 0. 0. 0. 0. 0. 0.]\n",
            "8\n",
            "[[1 6 9 3 8]\n",
            " [2 8 2 4 4]\n",
            " [9 6 5 1 1]\n",
            " [9 6 1 2 4]]\n",
            "20\n",
            "[[ 0.   1.   1.   2.   3. ]\n",
            " [ 2.   3.   4.   2.   3.3]\n",
            " [ 5.   6.   7.   2.   4.5]\n",
            " [ 8.   9.  10.   2.   5.8]]\n",
            "20\n"
          ]
        }
      ]
    },
    {
      "cell_type": "markdown",
      "source": [
        "# **Sorting and Partioning**\n",
        "\n",
        "####1. Given an array arr, sort the array in ascending order without modifying the original array. Print both the original and sorted arrays.(use np.sort())\n",
        "\n",
        "####2. You have arr = np.array([50, 30, 40, 20]) and names = np.array([\"A\", \"B\", \"C\", \"D\"]).\n",
        "Sort the arr values in ascending order and rearrange the names array accordingly.(use np.argsort() to get sorted indices and reorder names)\n",
        "\n",
        "####3. Write code to find the k smallest elements from the array arr. Print these elements in ascending order.(use np.partition())\n",
        "\n",
        "####4. Partition the array arr such that all elements smaller than a particular number(user input) appear before those greater than or equal to that number. Print the partitioned array.(use np.partition() to find the pivot value's index)\n",
        "\n",
        "####5. Sort each row of a 2D array arr in ascending order.(use np.sort() with axis parameter)\n",
        "\n",
        "####6. Print k largest elements of an array arr in descending order.(use np.partition() to find top k elements)\n",
        "\n",
        "####7. Given an array arr(containing possible negative values), sort the array in ascending order based on the absolute values of the elements. Print the sorted array.(use np.argsort() with a custom key for absolute values)\n",
        "\n",
        "####8. Given an array arr, sort only the elements greater than k in ascending order, keeping the other elements in their original positions.(create a mask to find elements greater than k, use np.sort() to sort them then reassign the sorted values back to their original indices in the array)"
      ],
      "metadata": {
        "id": "ItnxYBtVzYiL"
      }
    },
    {
      "cell_type": "code",
      "source": [
        "#1\n",
        "import numpy as np\n",
        "arr=np.array([50,30,40,20])\n",
        "arr.sort()\n",
        "print(arr)"
      ],
      "metadata": {
        "colab": {
          "base_uri": "https://localhost:8080/"
        },
        "id": "Ts-K1N-lClEE",
        "outputId": "1171ebef-7922-46fa-995c-0e90104e8d67"
      },
      "execution_count": null,
      "outputs": [
        {
          "output_type": "stream",
          "name": "stdout",
          "text": [
            "[20 30 40 50]\n"
          ]
        }
      ]
    },
    {
      "cell_type": "code",
      "source": [
        "#2\n",
        "import numpy as np\n",
        "arr=np.array([50,30,40,20])\n",
        "names=np.array([\"A\",\"B\",\"C\",\"D\"])\n",
        "indices=arr.argsort()\n",
        "sorted_names=names[indices]\n",
        "print(sorted_names)\n",
        "print(indices)\n"
      ],
      "metadata": {
        "colab": {
          "base_uri": "https://localhost:8080/"
        },
        "id": "HD2znam4C8NR",
        "outputId": "6974c57c-dbbb-4fcd-988b-f71d48f49f10"
      },
      "execution_count": null,
      "outputs": [
        {
          "output_type": "stream",
          "name": "stdout",
          "text": [
            "['D' 'B' 'C' 'A']\n",
            "[3 1 2 0]\n",
            "\n"
          ]
        }
      ]
    },
    {
      "cell_type": "code",
      "source": [
        "#3\n",
        "import numpy as np\n",
        "k=int(input())\n",
        "arr=np.array([50,30,40,20,5,14,56,78,9,34,43,11,56,0,1])\n",
        "arr.sort()\n",
        "indices=np.partition(arr,k)\n",
        "smallest_k_elements = indices[:k]\n",
        "print(smallest_k_elements)\n",
        "\n",
        "\n",
        "print(indices)\n"
      ],
      "metadata": {
        "colab": {
          "base_uri": "https://localhost:8080/"
        },
        "id": "3ISWvXF8D8DO",
        "outputId": "32a1f341-7031-41c5-dab7-986725934454"
      },
      "execution_count": null,
      "outputs": [
        {
          "output_type": "stream",
          "name": "stdout",
          "text": [
            "5\n",
            "[ 0  1  5  9 11]\n",
            "[ 0  1  5  9 11 14 20 30 34 40 43 50 56 56 78]\n"
          ]
        }
      ]
    },
    {
      "cell_type": "code",
      "source": [
        "#8\n",
        "arr=np.array([4,7,2,1,8,6,4])\n",
        "k=5\n",
        "\n",
        "mask=arr>=k\n",
        "arr[mask]=np.sort(arr[mask])\n",
        "elements=arr[mask]\n",
        "print(elements)\n",
        "print(mask)\n",
        "print(arr)"
      ],
      "metadata": {
        "colab": {
          "base_uri": "https://localhost:8080/"
        },
        "id": "bicZc1gsGvY0",
        "outputId": "f9dc44a7-34dd-4132-ce3e-162d7dbd8d65"
      },
      "execution_count": null,
      "outputs": [
        {
          "output_type": "stream",
          "name": "stdout",
          "text": [
            "[6 7 8]\n",
            "[False  True False False  True  True False]\n",
            "[4 6 2 1 7 8 4]\n"
          ]
        }
      ]
    },
    {
      "cell_type": "code",
      "source": [
        "#5\n",
        "arr=np.array([[6,9,5],[1,4,2],[7,3,8]])\n",
        "arr.sort(axis=0)#colums sort\n",
        "arr.sort(axis=1)#row sort\n",
        "print(arr)"
      ],
      "metadata": {
        "id": "noCXkWw-H5GO",
        "colab": {
          "base_uri": "https://localhost:8080/"
        },
        "outputId": "7dfb07b5-84bc-432f-8d11-fe92c2b16d7e"
      },
      "execution_count": null,
      "outputs": [
        {
          "output_type": "stream",
          "name": "stdout",
          "text": [
            "[[1 2 3]\n",
            " [4 5 6]\n",
            " [7 8 9]]\n"
          ]
        }
      ]
    },
    {
      "cell_type": "code",
      "source": [
        "#6\n",
        "k=int(input())\n",
        "arr=np.array([50,30,40,20,5,14,56,78,9,34,43,11,56,0,1])\n",
        "arr.sort()\n",
        "indices=np.partition(arr,-k)\n",
        "largest_k_elements = indices[-k:]\n",
        "largest_k_elementsin_descending_order=np.sort(largest_k_elements)[::-1]\n",
        "print(largest_k_elementsin_descending_order)"
      ],
      "metadata": {
        "colab": {
          "base_uri": "https://localhost:8080/"
        },
        "id": "TR6thr3-57FO",
        "outputId": "1eb7f057-6e30-40f5-aa06-476f558a82d0"
      },
      "execution_count": null,
      "outputs": [
        {
          "output_type": "stream",
          "name": "stdout",
          "text": [
            "5\n",
            "[78 56 56 50 43]\n"
          ]
        }
      ]
    },
    {
      "cell_type": "code",
      "source": [
        "#7\n",
        "arr=np.array([1,-2,8,56,-27,6,-53])\n",
        "arr=arr[np.argsort(np.abs(arr))]\n",
        "print(arr)"
      ],
      "metadata": {
        "colab": {
          "base_uri": "https://localhost:8080/"
        },
        "id": "MVjT-Gmo7gff",
        "outputId": "c84a7e25-3c93-4e27-a445-15a76e1aec55"
      },
      "execution_count": null,
      "outputs": [
        {
          "output_type": "stream",
          "name": "stdout",
          "text": [
            "[  1  -2   6   8 -27 -53  56]\n"
          ]
        }
      ]
    },
    {
      "cell_type": "code",
      "source": [
        "#4\n",
        "k=int(input())\n",
        "arr=np.array([10,23,4,67,8,43,35,107])\n",
        "pivot_index=np.sum(arr<k)\n",
        "print('pivot_index:',pivot_index)\n",
        "arr_required=np.partition(arr,np.sum(arr<k))\n",
        "print(arr_required)\n"
      ],
      "metadata": {
        "colab": {
          "base_uri": "https://localhost:8080/"
        },
        "id": "HvX49UUy-ujL",
        "outputId": "a8709391-51a2-4e4b-9cf7-dde474e5541f"
      },
      "execution_count": 47,
      "outputs": [
        {
          "output_type": "stream",
          "name": "stdout",
          "text": [
            "25\n",
            "pivot_index: 4\n",
            "[  8   4  10  23  35  43  67 107]\n"
          ]
        }
      ]
    },
    {
      "cell_type": "markdown",
      "source": [
        "# **Indexing and slicing**"
      ],
      "metadata": {
        "id": "gPghNT4V8CFw"
      }
    },
    {
      "cell_type": "markdown",
      "source": [
        "#### 1. 2D Array Indexing\n",
        "Consider the following 2D array:\n",
        "`arr_2d = np.array([[5, 10, 15], [20, 25, 30], [35, 40, 45]])`\n",
        "- Access the element at row index 1 and column index 2.\n",
        "- Extract the first row.\n",
        "- Extract the last column."
      ],
      "metadata": {
        "id": "O9CJs-Un8X3_"
      }
    },
    {
      "cell_type": "code",
      "source": [
        "import numpy as np\n",
        "\n",
        "arr_2d = np.array([[5, 10, 15], [20, 25, 30], [35, 40, 45]])\n",
        "print(arr_2d[1,2])\n",
        "print(arr_2d[0,:])\n",
        "print(arr_2d[:,2])"
      ],
      "metadata": {
        "colab": {
          "base_uri": "https://localhost:8080/"
        },
        "id": "msREpkSIIrTt",
        "outputId": "a58f127a-c779-4743-fe3e-80964d2c0cd5"
      },
      "execution_count": null,
      "outputs": [
        {
          "output_type": "stream",
          "name": "stdout",
          "text": [
            "30\n",
            "[ 5 10 15]\n",
            "[15 30 45]\n"
          ]
        }
      ]
    },
    {
      "cell_type": "markdown",
      "source": [
        "#### 2. Boolean Indexing\n",
        "Given an array `arr = np.array([2, 5, 8, 11, 14, 17, 20])`, use boolean indexing to:\n",
        "- Extract all values greater than 10.\n",
        "- Replace all values greater than 15 with -1."
      ],
      "metadata": {
        "id": "aXGnlXAo8ai8"
      }
    },
    {
      "cell_type": "code",
      "source": [
        "arr = np.array([2, 5, 8, 11, 14, 17, 20])\n",
        "data=arr>10\n",
        "arr_required=arr[data]\n",
        "print(arr_required)\n",
        "\n",
        "arr_final = np.where(arr_required>15, -1, arr_required)\n",
        "print(arr_final)"
      ],
      "metadata": {
        "colab": {
          "base_uri": "https://localhost:8080/"
        },
        "id": "oOeyjjGxIbFy",
        "outputId": "883a2bc1-ae64-497a-df8c-78bc804cef60"
      },
      "execution_count": null,
      "outputs": [
        {
          "output_type": "stream",
          "name": "stdout",
          "text": [
            "[11 14 17 20]\n",
            "[11 14 -1 -1]\n"
          ]
        }
      ]
    },
    {
      "cell_type": "markdown",
      "source": [
        "#### 3. Fancy Indexing\n",
        "Using the 2D array `arr_2d = np.array([[5, 10, 15], [20, 25, 30], [35, 40, 45]])`, write code to:\n",
        "\n",
        "- Select the elements at positions (0,2), (1,1), and (2,0).\n",
        "- Use fancy indexing to create a submatrix with rows 0 and 2, and columns 1 and 2.\n",
        "\n",
        "- **Hint:**\n",
        " - For 1st part, use arrays of row and column indices\n",
        " - For 2nd part, you can create a submatrix using fancy indexing by using np.newaxis to match the dimensions\n"
      ],
      "metadata": {
        "id": "cSMQOL_78dGJ"
      }
    },
    {
      "cell_type": "code",
      "source": [
        "\n",
        "import numpy as np\n",
        "arr_2d = np.array([[5, 10, 15], [20, 25, 30], [35, 40, 45]])\n",
        "print(arr_2d[0,2])\n",
        "print(arr_2d[1,1])\n",
        "print(arr_2d[2,0])\n",
        "# Assuming you .want to add a new axis at the beginning. Replace axis=0 with desired axis if different.\n",
        "##print(arr_2d[:, np.newaxis])\n",
        "#print(arr_2d[np.newaxis,:])\n",
        "print(arr_2d[0:3:2,1:3])\n"
      ],
      "metadata": {
        "colab": {
          "base_uri": "https://localhost:8080/"
        },
        "id": "k9WOx-d2Jkma",
        "outputId": "9c4a76e9-5c1b-4c66-acdc-0e430d69e1c0"
      },
      "execution_count": null,
      "outputs": [
        {
          "output_type": "stream",
          "name": "stdout",
          "text": [
            "15\n",
            "25\n",
            "35\n",
            "[[10 15]\n",
            " [40 45]]\n"
          ]
        }
      ]
    },
    {
      "cell_type": "markdown",
      "source": [
        "#### 4. Slicing 1D array\n",
        "Given the array `arr = np.array([1, 3, 5, 7, 9, 11, 13, 15])`, write code to:\n",
        "\n",
        "- Extract the first 4 elements.\n",
        "- Extract every second element from the entire array.\n",
        "- Extract elements from index 2 to the end, stepping by 2."
      ],
      "metadata": {
        "id": "neMikU6N8fdJ"
      }
    },
    {
      "cell_type": "code",
      "source": [
        "arr = np.array([1, 3, 5, 7, 9, 11, 13, 15])\n",
        "print(arr[:4])\n",
        "print(arr[::2])\n",
        "print(arr[2::2])\n"
      ],
      "metadata": {
        "colab": {
          "base_uri": "https://localhost:8080/"
        },
        "id": "zpoY7x2KaeXK",
        "outputId": "6794d805-faed-4bac-b5c2-b9a846a19ed2"
      },
      "execution_count": null,
      "outputs": [
        {
          "output_type": "stream",
          "name": "stdout",
          "text": [
            "[1 3 5 7]\n",
            "[ 1  5  9 13]\n",
            "[ 5  9 13]\n"
          ]
        }
      ]
    },
    {
      "cell_type": "markdown",
      "source": [
        "#### 5. Slicing a 2D Array\n",
        "Given the following 2D array:\n",
        "`arr_2d = np.array([[10, 20, 30, 40], [50, 60, 70, 80], [90, 100, 110, 120]])`\n",
        "- Slice and print the last two columns of 1st row.\n",
        "- Slice and print the last row, reversed."
      ],
      "metadata": {
        "id": "QnTy4Zj98h4I"
      }
    },
    {
      "cell_type": "code",
      "source": [
        "arr_2d = np.array([[10, 20, 30, 40], [50, 60, 70, 80], [90, 100, 110, 120]])\n",
        "\n",
        "print(arr_2d[0,-2:])\n",
        "print(arr_2d[-1,::-1])"
      ],
      "metadata": {
        "colab": {
          "base_uri": "https://localhost:8080/"
        },
        "id": "7sQsqQCMazQP",
        "outputId": "64e4f11e-b56f-40e1-e974-fd2545927db2"
      },
      "execution_count": null,
      "outputs": [
        {
          "output_type": "stream",
          "name": "stdout",
          "text": [
            "[30 40]\n",
            "[120 110 100  90]\n"
          ]
        }
      ]
    },
    {
      "cell_type": "markdown",
      "source": [
        "#### 6. Handling Out-of-Range Indices in Slicing vs. Indexing\n",
        "Given the array:\n",
        "`arr = np.array([10, 20, 30, 40, 50])`\n",
        "\n",
        "\n",
        "- What will be the output of the following slicing operations? Explain why they work, even though some indices are out of range.\n",
        " - print(arr[2:10])  \n",
        " - print(arr[-10:3])    \n",
        "\n",
        "- Compare the behavior of slicing to accessing a single element with an out-of-range index (e.g., arr[10]). Why does slicing not raise an error in these cases, but indexing does?"
      ],
      "metadata": {
        "id": "DWgodK9V8kVv"
      }
    },
    {
      "cell_type": "code",
      "source": [
        "arr = np.array([10, 20, 30, 40, 50])\n",
        "print(arr[2:10])\n",
        "print(arr[-10:3])\n",
        "# if \"print(arr[10])\" is written index errror will raise due to focusing of element of a specific index\n",
        "#but the same won\"t happen to slicing as numpy will adjust the range to valid range while coding as its main function is to give a sub array.\n",
        "#it will extend beyond valid indices."
      ],
      "metadata": {
        "colab": {
          "base_uri": "https://localhost:8080/"
        },
        "id": "t9_oKsgbcDCk",
        "outputId": "bb24bd7f-c278-4eea-9b2a-dba659fe8bf3"
      },
      "execution_count": null,
      "outputs": [
        {
          "output_type": "stream",
          "name": "stdout",
          "text": [
            "[30 40 50]\n",
            "[10 20 30]\n"
          ]
        }
      ]
    },
    {
      "cell_type": "markdown",
      "source": [
        "#### 7.  Work with an Audio File\n",
        "\n",
        "Download the audio file from the following link: Simple Logo - Pixabay. Load the audio file using pydub and complete the following tasks:\n",
        "\n",
        "- Extract the first second of the audio and plot its waveform.\n",
        "   - Hint: Use the frame rate to calculate how many samples are in 1 second, and use slicing to extract this part.\n",
        "\n",
        "-   Extract the last second of the audio and plot its waveform.\n",
        "  \n",
        "\n",
        "-  Combine the samples from the first second and the last second into a new array and plot the combined waveform.\n",
        " - Hint: Use NumPy’s np.concatenate() function to merge the two slices."
      ],
      "metadata": {
        "id": "xDOOiJe7r_Vx"
      }
    },
    {
      "cell_type": "code",
      "source": [
        "from pydub import AudioSegment\n",
        "import numpy as np\n",
        "import matplotlib.pyplot as plt\n",
        "audio_file = \"simple-logo-149190.mp3\"\n",
        "# audio = AudioSegment.from_file(audio_file)\n",
        "\n",
        "\n",
        "audio = audio.set_channels(1)\n",
        "\n",
        "frame_rate = audio.frame_rate\n",
        "\n",
        "first_second = audio[:1000]\n",
        "first_second_samples = np.array(first_second.get_array_of_samples())\n",
        "\n",
        "last_second = audio[-1000:]\n",
        "last_second_samples = np.array(last_second.get_array_of_samples())\n",
        "\n",
        "\n",
        "\n"
      ],
      "metadata": {
        "colab": {
          "base_uri": "https://localhost:8080/",
          "height": 211
        },
        "id": "xgfGMWSYddKV",
        "outputId": "6d03929f-17c8-440c-d82d-78c330aecba6"
      },
      "execution_count": 55,
      "outputs": [
        {
          "output_type": "error",
          "ename": "NameError",
          "evalue": "name 'audio' is not defined",
          "traceback": [
            "\u001b[0;31m---------------------------------------------------------------------------\u001b[0m",
            "\u001b[0;31mNameError\u001b[0m                                 Traceback (most recent call last)",
            "\u001b[0;32m<ipython-input-55-9ed0b14e8049>\u001b[0m in \u001b[0;36m<cell line: 8>\u001b[0;34m()\u001b[0m\n\u001b[1;32m      6\u001b[0m \u001b[0;34m\u001b[0m\u001b[0m\n\u001b[1;32m      7\u001b[0m \u001b[0;34m\u001b[0m\u001b[0m\n\u001b[0;32m----> 8\u001b[0;31m \u001b[0maudio\u001b[0m \u001b[0;34m=\u001b[0m \u001b[0maudio\u001b[0m\u001b[0;34m.\u001b[0m\u001b[0mset_channels\u001b[0m\u001b[0;34m(\u001b[0m\u001b[0;36m1\u001b[0m\u001b[0;34m)\u001b[0m\u001b[0;34m\u001b[0m\u001b[0;34m\u001b[0m\u001b[0m\n\u001b[0m\u001b[1;32m      9\u001b[0m \u001b[0;34m\u001b[0m\u001b[0m\n\u001b[1;32m     10\u001b[0m \u001b[0mframe_rate\u001b[0m \u001b[0;34m=\u001b[0m \u001b[0maudio\u001b[0m\u001b[0;34m.\u001b[0m\u001b[0mframe_rate\u001b[0m\u001b[0;34m\u001b[0m\u001b[0;34m\u001b[0m\u001b[0m\n",
            "\u001b[0;31mNameError\u001b[0m: name 'audio' is not defined"
          ]
        }
      ]
    },
    {
      "cell_type": "code",
      "source": [
        "pip install pydub numpy matplotlib\n"
      ],
      "metadata": {
        "colab": {
          "base_uri": "https://localhost:8080/"
        },
        "id": "8t-C2_n8cnu6",
        "outputId": "3dd5d221-18b8-4bcd-8821-deaa22083555"
      },
      "execution_count": 50,
      "outputs": [
        {
          "output_type": "stream",
          "name": "stdout",
          "text": [
            "Collecting pydub\n",
            "  Downloading pydub-0.25.1-py2.py3-none-any.whl.metadata (1.4 kB)\n",
            "Requirement already satisfied: numpy in /usr/local/lib/python3.10/dist-packages (1.26.4)\n",
            "Requirement already satisfied: matplotlib in /usr/local/lib/python3.10/dist-packages (3.10.0)\n",
            "Requirement already satisfied: contourpy>=1.0.1 in /usr/local/lib/python3.10/dist-packages (from matplotlib) (1.3.1)\n",
            "Requirement already satisfied: cycler>=0.10 in /usr/local/lib/python3.10/dist-packages (from matplotlib) (0.12.1)\n",
            "Requirement already satisfied: fonttools>=4.22.0 in /usr/local/lib/python3.10/dist-packages (from matplotlib) (4.55.3)\n",
            "Requirement already satisfied: kiwisolver>=1.3.1 in /usr/local/lib/python3.10/dist-packages (from matplotlib) (1.4.8)\n",
            "Requirement already satisfied: packaging>=20.0 in /usr/local/lib/python3.10/dist-packages (from matplotlib) (24.2)\n",
            "Requirement already satisfied: pillow>=8 in /usr/local/lib/python3.10/dist-packages (from matplotlib) (11.1.0)\n",
            "Requirement already satisfied: pyparsing>=2.3.1 in /usr/local/lib/python3.10/dist-packages (from matplotlib) (3.2.1)\n",
            "Requirement already satisfied: python-dateutil>=2.7 in /usr/local/lib/python3.10/dist-packages (from matplotlib) (2.8.2)\n",
            "Requirement already satisfied: six>=1.5 in /usr/local/lib/python3.10/dist-packages (from python-dateutil>=2.7->matplotlib) (1.17.0)\n",
            "Downloading pydub-0.25.1-py2.py3-none-any.whl (32 kB)\n",
            "Installing collected packages: pydub\n",
            "Successfully installed pydub-0.25.1\n"
          ]
        }
      ]
    },
    {
      "cell_type": "markdown",
      "source": [
        "# **Reshaping in NumPy**\n"
      ],
      "metadata": {
        "id": "bRFENqbOGX1X"
      }
    },
    {
      "cell_type": "markdown",
      "source": [
        "####1. Create a 2D array of shape (3, 5). Flatten it into a 1D array and then reshape it back into a (5, 3) array.\n",
        "\n",
        "####2. Create a 1D array\n",
        "```\n",
        "arr = np.array([1, 2, 3, 4, 5])\n",
        "```\n",
        "####Reshape arr into (5,1), then convert to (5,) and then convert it into (1,5).\n",
        "\n",
        "\n",
        "####3. Create a 1D NumPy array with values ranging from 1 to 100. Reshape it into a (10, 10) matrix. Apply '.ravel()' and '.flatten()' on the matrix and modify the original matrix. Compare the outputs of both methods and explain the difference in memory sharing.\n",
        "\n",
        "\n",
        "####4. Generate a 5x5 NumPy matrix representing pixel intensities from an image. Use slicing to extract the central 3x3 section of the matrix and flatten it. How does reshaping impact the spatial relationships of the pixels?\n",
        "\n",
        "\n",
        "####5. Create a 3-channel RGB image as a NumPy array of shape (3, 4, 4) with random integer values between 0 and 255. Flatten the image using '.reshape()' and reshape it back to its original shape. Explain the order of pixel data stored and how reshaping affects the channel structure.\n",
        "\n"
      ],
      "metadata": {
        "id": "Gv2cCyxAdS3Q"
      }
    },
    {
      "cell_type": "code",
      "source": [
        "#1\n",
        "import numpy as np\n",
        "arr=np.array([[1,2,3,4,5,],[6,7,8,9,10],[11,12,13,14,15]])\n",
        "print(arr)\n",
        "arr_flattened=arr.flatten()\n",
        "print(arr_flattened)\n",
        "arr_reshaped=arr_flattened.reshape(5,3)\n",
        "print(arr_reshaped)"
      ],
      "metadata": {
        "colab": {
          "base_uri": "https://localhost:8080/"
        },
        "id": "poELCejfGIXV",
        "outputId": "243204e8-4e82-49d0-934a-500dbbeadbb1"
      },
      "execution_count": null,
      "outputs": [
        {
          "output_type": "stream",
          "name": "stdout",
          "text": [
            "[[ 1  2  3  4  5]\n",
            " [ 6  7  8  9 10]\n",
            " [11 12 13 14 15]]\n",
            "[ 1  2  3  4  5  6  7  8  9 10 11 12 13 14 15]\n",
            "[[ 1  2  3]\n",
            " [ 4  5  6]\n",
            " [ 7  8  9]\n",
            " [10 11 12]\n",
            " [13 14 15]]\n"
          ]
        }
      ]
    },
    {
      "cell_type": "code",
      "source": [
        "#2\n",
        "import numpy as np\n",
        "arr = np.array([1, 2, 3, 4, 5])\n",
        "arr=arr.reshape(5,1)\n",
        "print(arr)\n",
        "arr=arr.reshape(5,)\n",
        "print(arr)\n",
        "arr=arr.reshape(1,5)\n",
        "print(arr)"
      ],
      "metadata": {
        "colab": {
          "base_uri": "https://localhost:8080/"
        },
        "id": "BLafX5beGyjc",
        "outputId": "b4f8c013-8751-4fa3-d808-d07b2a741fef"
      },
      "execution_count": null,
      "outputs": [
        {
          "output_type": "stream",
          "name": "stdout",
          "text": [
            "[[1]\n",
            " [2]\n",
            " [3]\n",
            " [4]\n",
            " [5]]\n",
            "[1 2 3 4 5]\n",
            "[[1 2 3 4 5]]\n"
          ]
        }
      ]
    },
    {
      "cell_type": "code",
      "source": [
        "#3\n",
        "import numpy as np\n",
        "arr=np.arange(1,101).reshape(10,10)\n",
        "print(arr)\n",
        "arr_ravel=arr.ravel()\n",
        "print(arr_ravel)\n",
        "arr_flatten=arr.flatten()\n",
        "print(arr_flatten)\n",
        "# ravel is faster as it doesn't make a copy.\n",
        "#it will modify the output id we change anything in the array but the flatten will not."
      ],
      "metadata": {
        "colab": {
          "base_uri": "https://localhost:8080/"
        },
        "id": "M_WPVmRNHA-1",
        "outputId": "d4ed4dde-62b0-4299-ca38-7fd30f083940"
      },
      "execution_count": null,
      "outputs": [
        {
          "output_type": "stream",
          "name": "stdout",
          "text": [
            "[[  1   2   3   4   5   6   7   8   9  10]\n",
            " [ 11  12  13  14  15  16  17  18  19  20]\n",
            " [ 21  22  23  24  25  26  27  28  29  30]\n",
            " [ 31  32  33  34  35  36  37  38  39  40]\n",
            " [ 41  42  43  44  45  46  47  48  49  50]\n",
            " [ 51  52  53  54  55  56  57  58  59  60]\n",
            " [ 61  62  63  64  65  66  67  68  69  70]\n",
            " [ 71  72  73  74  75  76  77  78  79  80]\n",
            " [ 81  82  83  84  85  86  87  88  89  90]\n",
            " [ 91  92  93  94  95  96  97  98  99 100]]\n",
            "[  1   2   3   4   5   6   7   8   9  10  11  12  13  14  15  16  17  18\n",
            "  19  20  21  22  23  24  25  26  27  28  29  30  31  32  33  34  35  36\n",
            "  37  38  39  40  41  42  43  44  45  46  47  48  49  50  51  52  53  54\n",
            "  55  56  57  58  59  60  61  62  63  64  65  66  67  68  69  70  71  72\n",
            "  73  74  75  76  77  78  79  80  81  82  83  84  85  86  87  88  89  90\n",
            "  91  92  93  94  95  96  97  98  99 100]\n",
            "[  1   2   3   4   5   6   7   8   9  10  11  12  13  14  15  16  17  18\n",
            "  19  20  21  22  23  24  25  26  27  28  29  30  31  32  33  34  35  36\n",
            "  37  38  39  40  41  42  43  44  45  46  47  48  49  50  51  52  53  54\n",
            "  55  56  57  58  59  60  61  62  63  64  65  66  67  68  69  70  71  72\n",
            "  73  74  75  76  77  78  79  80  81  82  83  84  85  86  87  88  89  90\n",
            "  91  92  93  94  95  96  97  98  99 100]\n"
          ]
        }
      ]
    },
    {
      "cell_type": "code",
      "source": [
        "import numpy as np\n",
        "image_matrix=np.random.randint(0,256,(5,5))\n",
        "print(image_matrix)\n",
        "req_img=image_matrix[1:4,1:4]\n",
        "print(req_img)\n",
        "req_img_flattened=req_img.flatten()\n",
        "print(req_img_flattened)\n",
        "#reshaping will change the shape which means number of rows and columns without changing the order of elements."
      ],
      "metadata": {
        "colab": {
          "base_uri": "https://localhost:8080/"
        },
        "id": "o_pXUe_LIaTa",
        "outputId": "de8cc6c6-f59a-4f8d-b942-d0a67f458e79"
      },
      "execution_count": null,
      "outputs": [
        {
          "output_type": "stream",
          "name": "stdout",
          "text": [
            "[[ 71 216  35 249 149]\n",
            " [140 153  79  98 200]\n",
            " [108  59 182 120  99]\n",
            " [136 166 162 158   5]\n",
            " [239  26 137  34  32]]\n",
            "[[153  79  98]\n",
            " [ 59 182 120]\n",
            " [166 162 158]]\n",
            "[153  79  98  59 182 120 166 162 158]\n"
          ]
        }
      ]
    },
    {
      "cell_type": "code",
      "source": [
        "import numpy as np\n",
        "image_matrix=np.random.randint(0,256,(3,4,4))\n",
        "print(image_matrix)\n",
        "image_matrix_reshaped=image_matrix.reshape(1,48)\n",
        "print(image_matrix_reshaped)\n",
        "image_matrix_reshaped=image_matrix.reshape(3,4,4)\n",
        "print(image_matrix_reshaped)\n",
        "#Flattening an RGB image into a 1D array disrupts its spatial relationships.\n",
        "# but reshaping back to (3, 4, 4) restores the channel structure and spatial layout without any loss of information, provided the reshaping dimensions are compatible."
      ],
      "metadata": {
        "colab": {
          "base_uri": "https://localhost:8080/"
        },
        "id": "Fj-7_U1GKc8T",
        "outputId": "8bf4abeb-9cf4-42db-ee4d-bb46f5ffe260"
      },
      "execution_count": null,
      "outputs": [
        {
          "output_type": "stream",
          "name": "stdout",
          "text": [
            "[[[237  16  63 185]\n",
            "  [ 72 216 157  90]\n",
            "  [187 190  15 157]\n",
            "  [209  22  37 196]]\n",
            "\n",
            " [[188 166  78 179]\n",
            "  [ 23 206 251  61]\n",
            "  [194  99  23 124]\n",
            "  [ 96 191  10 217]]\n",
            "\n",
            " [[148 181 189 253]\n",
            "  [251  58  33  79]\n",
            "  [208 168  36 145]\n",
            "  [108 120 218 106]]]\n",
            "[[237  16  63 185  72 216 157  90 187 190  15 157 209  22  37 196 188 166\n",
            "   78 179  23 206 251  61 194  99  23 124  96 191  10 217 148 181 189 253\n",
            "  251  58  33  79 208 168  36 145 108 120 218 106]]\n",
            "[[[237  16  63 185]\n",
            "  [ 72 216 157  90]\n",
            "  [187 190  15 157]\n",
            "  [209  22  37 196]]\n",
            "\n",
            " [[188 166  78 179]\n",
            "  [ 23 206 251  61]\n",
            "  [194  99  23 124]\n",
            "  [ 96 191  10 217]]\n",
            "\n",
            " [[148 181 189 253]\n",
            "  [251  58  33  79]\n",
            "  [208 168  36 145]\n",
            "  [108 120 218 106]]]\n"
          ]
        }
      ]
    },
    {
      "cell_type": "markdown",
      "source": [
        "# **Universal Functions**\n",
        "\n",
        "Q1) Given an array x = [1, 4, 9, 16, 25], compute the square root of each element in the array and print the result.\n",
        "\n",
        "Q2) Create an array angles =[0, $\\frac{\\pi}{2}$, $\\pi$, $\\frac{3\\pi}{2}$]\n",
        ", calculate the sine of each angle and print the result.\n",
        "\n",
        "\n",
        "\n",
        "Q3) Given two arrays a =[True, False, True] and b = [False, False, True], perform an element-wise logical AND operation and print the result.\n",
        "\n",
        "Q4) Create two arrays x = [1, 2, 3, 4] and y = [2, 2, 3, 5], perform an element-wise comparison (x < y) and print the result.\n",
        "\n",
        "Q5) Create an array x =[-2, -1, 0, 1, 2, 3, 4], compute the following element-wise operation:\n",
        "\n",
        "* If an element is negative, square it.\n",
        "* If an element is non-negative, compute its exponential.\n",
        "Print the resulting array."
      ],
      "metadata": {
        "id": "6N9gUypIpV_H"
      }
    },
    {
      "cell_type": "code",
      "source": [
        "import numpy as np\n",
        "x=np.array([1,4,9,16,25])\n",
        "print(np.sqrt(x))"
      ],
      "metadata": {
        "colab": {
          "base_uri": "https://localhost:8080/"
        },
        "id": "BCQWCRf_Mnis",
        "outputId": "ff42c2f3-1f08-46c5-85e0-f68e82a0f386"
      },
      "execution_count": null,
      "outputs": [
        {
          "output_type": "stream",
          "name": "stdout",
          "text": [
            "[1. 2. 3. 4. 5.]\n"
          ]
        }
      ]
    },
    {
      "cell_type": "code",
      "source": [
        "import numpy as np\n",
        "angles=np.array([0,np.pi/2,np.pi,3*np.pi/2])\n",
        "print(np.sin(angles))"
      ],
      "metadata": {
        "colab": {
          "base_uri": "https://localhost:8080/"
        },
        "id": "k1vy4kvYM0nS",
        "outputId": "bc7f41a5-f667-473a-8847-0002c7d709de"
      },
      "execution_count": null,
      "outputs": [
        {
          "output_type": "stream",
          "name": "stdout",
          "text": [
            "[ 0.0000000e+00  1.0000000e+00  1.2246468e-16 -1.0000000e+00]\n"
          ]
        }
      ]
    },
    {
      "cell_type": "code",
      "source": [
        "import numpy as np\n",
        "a=np.array([True,False,True])\n",
        "b=np.array([False,False,True])\n",
        "print(np.logical_and(a,b))\n"
      ],
      "metadata": {
        "colab": {
          "base_uri": "https://localhost:8080/"
        },
        "id": "e1LSSzNfM8qC",
        "outputId": "eb073f2f-8368-4601-e507-fa6879373494"
      },
      "execution_count": 35,
      "outputs": [
        {
          "output_type": "stream",
          "name": "stdout",
          "text": [
            "[False False  True]\n"
          ]
        }
      ]
    },
    {
      "cell_type": "code",
      "source": [
        "import numpy as np\n",
        "x=np.array([1,2,3,4])\n",
        "y=np.array([2,2,3,5])\n",
        "print(np.less(x,y))\n"
      ],
      "metadata": {
        "colab": {
          "base_uri": "https://localhost:8080/"
        },
        "id": "qlupwmM1NJoL",
        "outputId": "c33392e7-f56c-42e2-c6d1-ad7bcf5c556a"
      },
      "execution_count": null,
      "outputs": [
        {
          "output_type": "stream",
          "name": "stdout",
          "text": [
            "[ True False False  True]\n"
          ]
        }
      ]
    },
    {
      "cell_type": "code",
      "source": [
        "import numpy as np\n",
        "x=np.array([-2,-1,0,1,2,3,4])\n",
        "print(np.where(x<0,x**2,np.exp(x)))"
      ],
      "metadata": {
        "colab": {
          "base_uri": "https://localhost:8080/"
        },
        "id": "B63J2vlpNR6I",
        "outputId": "f3b0f4b4-8c2c-405e-86f7-509a48c8fe7d"
      },
      "execution_count": null,
      "outputs": [
        {
          "output_type": "stream",
          "name": "stdout",
          "text": [
            "[ 4.          1.          1.          2.71828183  7.3890561  20.08553692\n",
            " 54.59815003]\n"
          ]
        }
      ]
    },
    {
      "cell_type": "markdown",
      "source": [
        "# **Aggregations**\n",
        "\n",
        "####1. Generate a random array of size 10.\n",
        " calculate the following:\n",
        "- Print the array\n",
        "- The sum of all elements.\n",
        "- The mean of the array.\n",
        "- The standard deviation.\n",
        "- Find 5$*$Minimum -3$*$Maximum\n",
        "\n",
        "####2. Generate a 4x5 matrix with random integers between 1 and 50.\n",
        "- Print the matrix.\n",
        "- Compute the mean of all elements in the matrix.\n",
        "- Compute the sum of each row in the matrix.\n",
        "\n",
        "####3. Generate a random 3x3 matrix with random integers between 1 to 10\n",
        "- Find the minimum value in each column and store it in a separate list min.\n",
        "- Find the maximum value in each row and store it in a separate list max.\n",
        "- Find the value of minimum of list max - maximum of list min.\n",
        "\n",
        "####4. Given the array : data = np.array([15, 25, 35, 45, 55, 65]):\n",
        "- Find the minimum value.\n",
        "- Subtract this minimum value from all elements of the array and then calculate the mean of the resulting array.\n",
        "\n",
        "####5. Given the array : arr = np.array([3, 5, 7, 9, 11]):\n",
        "- Compute the cumulative sum of the elements.\n",
        "- Compute the cumulative product of the elements.\n",
        "\n",
        "####6. Imagine you have a dataset representing the scores of 4 students in 3 subjects:\n",
        "scores = np.array([[85, 92, 78], [88, 76, 95], [91, 89, 82], [75, 85, 88]])\n",
        "- Compute the average score for each student.\n",
        "- Compute the highest score in each subject.\n",
        "- Determine the overall average score for all students across all subjects."
      ],
      "metadata": {
        "id": "gpcuUfrjZiBa"
      }
    },
    {
      "cell_type": "code",
      "source": [
        "import numpy as np\n",
        "arr=np.random.randint(1,10,10)\n",
        "max_arr=np.max(arr)\n",
        "min_arr=np.min(arr)\n",
        "print(arr)\n",
        "print(np.sum(arr))\n",
        "print(np.mean(arr))\n",
        "print(np.std(arr))\n",
        "print(5*(min_arr)-3*(max_arr))"
      ],
      "metadata": {
        "colab": {
          "base_uri": "https://localhost:8080/"
        },
        "id": "4_6GSD_jNpwH",
        "outputId": "e2bb73f9-7a23-4ace-9905-bff73cc0f354"
      },
      "execution_count": null,
      "outputs": [
        {
          "output_type": "stream",
          "name": "stdout",
          "text": [
            "[7 5 2 8 6 9 5 2 8 5]\n",
            "57\n",
            "5.7\n",
            "2.2825424421026654\n",
            "-17\n"
          ]
        }
      ]
    },
    {
      "cell_type": "code",
      "source": [
        "import numpy as np\n",
        "matrix=np.random.randint(1,50,(4,5))\n",
        "print(matrix)\n",
        "print(np.mean(matrix))\n",
        "print(np.sum(matrix,axis=1))"
      ],
      "metadata": {
        "colab": {
          "base_uri": "https://localhost:8080/"
        },
        "id": "hverEzQsOZ40",
        "outputId": "c40e2fd8-9712-4ead-89a7-3c9f4e9548e7"
      },
      "execution_count": null,
      "outputs": [
        {
          "output_type": "stream",
          "name": "stdout",
          "text": [
            "[[28  9  7 16  5]\n",
            " [ 2 20  7 36  3]\n",
            " [41 46 36 19 30]\n",
            " [17 32  6 11 22]]\n",
            "19.65\n",
            "[ 65  68 172  88]\n"
          ]
        }
      ]
    },
    {
      "cell_type": "code",
      "source": [
        "import numpy as np\n",
        "arr=np.random.randint(1,10,(3,3))\n",
        "print(arr)\n",
        "min=np.min(arr,axis=0)\n",
        "print(min)\n",
        "max=np.max(arr,axis=1)\n",
        "print(max)\n",
        "print(np.min(max)-np.max(min))"
      ],
      "metadata": {
        "id": "ad1xbMa9Ot5q",
        "colab": {
          "base_uri": "https://localhost:8080/"
        },
        "outputId": "89941145-cc5a-471c-9260-a6bff86abc32"
      },
      "execution_count": 48,
      "outputs": [
        {
          "output_type": "stream",
          "name": "stdout",
          "text": [
            "[[4 5 9]\n",
            " [3 3 5]\n",
            " [3 8 4]]\n",
            "[3 3 4]\n",
            "[9 5 8]\n",
            "1\n"
          ]
        }
      ]
    },
    {
      "cell_type": "code",
      "source": [
        "import numpy as np\n",
        "data=np.array([15,25,35,45,55,65])\n",
        "print(np.min(data))\n",
        "print(np.mean(data-np.min(data)))"
      ],
      "metadata": {
        "colab": {
          "base_uri": "https://localhost:8080/"
        },
        "id": "jVPpXIRdO98X",
        "outputId": "809d5908-8476-4071-c551-b32aab5e64b6"
      },
      "execution_count": null,
      "outputs": [
        {
          "output_type": "stream",
          "name": "stdout",
          "text": [
            "15\n",
            "25.0\n"
          ]
        }
      ]
    },
    {
      "cell_type": "code",
      "source": [
        "import numpy as np\n",
        "arr=np.array([3,5,7,9,11])\n",
        "print(np.cumsum(arr))\n",
        "print(np.cumprod(arr))"
      ],
      "metadata": {
        "colab": {
          "base_uri": "https://localhost:8080/"
        },
        "id": "EOrz8F1RPKCy",
        "outputId": "a9c0b0d6-be89-4869-e3f1-09f9ee3f56ca"
      },
      "execution_count": null,
      "outputs": [
        {
          "output_type": "stream",
          "name": "stdout",
          "text": [
            "[ 3  8 15 24 35]\n",
            "[    3    15   105   945 10395]\n"
          ]
        }
      ]
    },
    {
      "cell_type": "code",
      "source": [
        "import numpy as np\n",
        "scores = np.array([[85, 92, 78], [88, 76, 95], [91, 89, 82], [75, 85, 88]])\n",
        "print(np.mean(scores,axis=1))\n",
        "print(np.max(scores,axis=0))\n",
        "print(np.mean(scores))"
      ],
      "metadata": {
        "colab": {
          "base_uri": "https://localhost:8080/"
        },
        "id": "nQl20-tKVyDi",
        "outputId": "7a5e4c70-924a-4c26-cd3b-24c099b775b7"
      },
      "execution_count": null,
      "outputs": [
        {
          "output_type": "stream",
          "name": "stdout",
          "text": [
            "[85.         86.33333333 87.33333333 82.66666667]\n",
            "[91 92 95]\n",
            "85.33333333333333\n"
          ]
        }
      ]
    },
    {
      "cell_type": "code",
      "source": [],
      "metadata": {
        "id": "oo3PIpPrL-Ft"
      },
      "execution_count": null,
      "outputs": []
    },
    {
      "cell_type": "markdown",
      "source": [
        "Section 8: Broadcasting in NumPy\n",
        "1. Given two arrays:\n",
        "A = np.array([[1, 2, 3], [4, 5, 6], [7, 8, 9]]) (shape: (3, 3)) B = np.array([10, 20, 30]) (shape: (3,)) Perform elementwise addition of A and B using broadcasting and print the result.\n",
        "\n",
        "What is the resulting shape?\n",
        "\n",
        "2. Write a function check_broadcasting(shape1, shape2) that:\n",
        "Accepts two shapes as input and checks if they are broadcast-compatible. Use the function to test the following shape pairs: (3, 4) and (4,) (2, 1, 5) and (3, 5) (2, 3) and (2,)\n",
        "\n",
        "For each case:\n",
        "\n",
        "State whether broadcasting is possible.\n",
        "\n",
        "If possible, state the resulting shape of the operation\n",
        "\n",
        "3. Create a 2D array A of shape (3, 5) with random integers between 1 and 10.\n",
        "Create a 1D array B of shape (5,) with random integers between 1 and 5. Use broadcasting to subtract B from each row of A and print the result.\n",
        "\n",
        "4. Create a 3D array A with shape (2, 4, 3) filled with random integers between 0 and 10.\n",
        "Create an array B of shape (4, 3) containing a constant value of 5.\n",
        "Use broadcasting to add B to each 2D array slice of A.\n",
        "Print the result\n",
        "5. : You are given a grayscale image of shape (32, 32), where each pixel value is an integer. You want to apply a scaling factor of 0.5 to all the pixel values using broadcasting.\n",
        "Use broadcasting to scale the image by multiplying it with the scaling factor 0.5.\n",
        "Verify that the pixel values of the image are halved by printing the scaled image.\n",
        "6. Calculate the distance between an observation point and a set of code points (codes). The goal is to find the closest code to the observation by calculating the Euclidean distance between each code and the observation.\n",
        "Given two arrays :\n",
        "codes = np.array([ [1.0, 2.0, 3.0], [4.0, 5.0, 6.0], [7.0, 8.0, 9.0], [1.0, 1.0, 1.0], [2.0, 3.0, 4.0] ])\n",
        "\n",
        "observation = np.array([3.0, 3.0, 3.0])\n",
        "\n",
        "Use broadcasting to calculate the squared Euclidean distance between the observation and each code.\n",
        "Find and print the index of the closest code to the observation.\n",
        "Print the distance between the observation and the closest code.\n",
        "HINT : use np.argmin() to find the index of the closest code"
      ],
      "metadata": {
        "id": "y9Ybll2WL7gh"
      }
    },
    {
      "cell_type": "code",
      "source": [
        "import numpy as np\n",
        "A=np.array([[1,2,3],[4,5,6],[7,8,9]])\n",
        "B=np.array([10,20,30])\n",
        "print(A+B)"
      ],
      "metadata": {
        "id": "PRyFi5ZbV-jp",
        "colab": {
          "base_uri": "https://localhost:8080/"
        },
        "outputId": "c119814d-1006-4044-9966-7a8731221d5f"
      },
      "execution_count": 18,
      "outputs": [
        {
          "output_type": "stream",
          "name": "stdout",
          "text": [
            "[[11 22 33]\n",
            " [14 25 36]\n",
            " [17 28 39]]\n"
          ]
        }
      ]
    },
    {
      "cell_type": "code",
      "source": [
        "import numpy as np\n",
        "\n",
        "def check_broadcasting(shape1, shape2):\n",
        "    try:\n",
        "        result = np.broadcast_arrays(np.empty(shape1), np.empty(shape2))\n",
        "    except ValueError:\n",
        "        return False\n",
        "    return True\n",
        "print(check_broadcasting((3,4),(4,)))\n",
        "print(check_broadcasting((2,1,5),(3,5)))\n",
        "print(check_broadcasting((2,3),(2,)))\n",
        "\n",
        ""
      ],
      "metadata": {
        "colab": {
          "base_uri": "https://localhost:8080/"
        },
        "id": "qLAeAy5-NHx9",
        "outputId": "006a2440-4e87-424e-85af-469d7003ad49"
      },
      "execution_count": 24,
      "outputs": [
        {
          "output_type": "stream",
          "name": "stdout",
          "text": [
            "True\n",
            "True\n",
            "False\n"
          ]
        }
      ]
    },
    {
      "cell_type": "code",
      "source": [
        "import numpy as np\n",
        "A=np.random.randint(1,10,(3,5))\n",
        "B=np.random.randint(1,5,(5,))\n",
        "print(A)\n",
        "print(B)\n",
        "print(A-B)"
      ],
      "metadata": {
        "colab": {
          "base_uri": "https://localhost:8080/"
        },
        "id": "_DNTjO9cPT9V",
        "outputId": "9c19d6c6-b5b5-4290-b58c-2c548be47aba"
      },
      "execution_count": 25,
      "outputs": [
        {
          "output_type": "stream",
          "name": "stdout",
          "text": [
            "[[1 7 7 2 9]\n",
            " [8 9 2 4 6]\n",
            " [6 5 2 5 4]]\n",
            "[2 3 1 2 4]\n",
            "[[-1  4  6  0  5]\n",
            " [ 6  6  1  2  2]\n",
            " [ 4  2  1  3  0]]\n"
          ]
        }
      ]
    },
    {
      "cell_type": "code",
      "source": [
        "import numpy as np\n",
        "A=np.random.randint(0,10,(2,4,3))\n",
        "B=np.array([5])\n",
        "print(A)\n",
        "print(B)\n",
        "print(A+B)"
      ],
      "metadata": {
        "colab": {
          "base_uri": "https://localhost:8080/"
        },
        "id": "JygEt4A3QHkj",
        "outputId": "53d03e99-7eae-4d85-e120-2b8f5730f35e"
      },
      "execution_count": 29,
      "outputs": [
        {
          "output_type": "stream",
          "name": "stdout",
          "text": [
            "[[[4 7 1]\n",
            "  [2 1 8]\n",
            "  [1 4 9]\n",
            "  [0 2 4]]\n",
            "\n",
            " [[1 9 7]\n",
            "  [7 2 4]\n",
            "  [5 8 3]\n",
            "  [9 9 1]]]\n",
            "[5]\n",
            "[[[ 9 12  6]\n",
            "  [ 7  6 13]\n",
            "  [ 6  9 14]\n",
            "  [ 5  7  9]]\n",
            "\n",
            " [[ 6 14 12]\n",
            "  [12  7  9]\n",
            "  [10 13  8]\n",
            "  [14 14  6]]]\n"
          ]
        }
      ]
    },
    {
      "cell_type": "code",
      "source": [
        "import numpy as np\n",
        "image=np.random.randint(0,256,(32,32))\n",
        "print(image)\n",
        "scaled_image=image*0.5\n",
        "print(scaled_image)\n",
        "\n",
        "\n"
      ],
      "metadata": {
        "colab": {
          "base_uri": "https://localhost:8080/"
        },
        "id": "Dgx9gRzQQxn4",
        "outputId": "7c7ef2ad-7e7a-4508-b120-82e9fa797836"
      },
      "execution_count": 36,
      "outputs": [
        {
          "output_type": "stream",
          "name": "stdout",
          "text": [
            "[[ 34  33 115 ... 113 102 182]\n",
            " [110 207 171 ...  21  70 188]\n",
            " [145 198 115 ... 151  82   1]\n",
            " ...\n",
            " [ 77  57  74 ...  32 229  28]\n",
            " [219  87  66 ... 244  67  99]\n",
            " [  0 219 179 ... 145  57 141]]\n",
            "[[ 17.   16.5  57.5 ...  56.5  51.   91. ]\n",
            " [ 55.  103.5  85.5 ...  10.5  35.   94. ]\n",
            " [ 72.5  99.   57.5 ...  75.5  41.    0.5]\n",
            " ...\n",
            " [ 38.5  28.5  37.  ...  16.  114.5  14. ]\n",
            " [109.5  43.5  33.  ... 122.   33.5  49.5]\n",
            " [  0.  109.5  89.5 ...  72.5  28.5  70.5]]\n"
          ]
        }
      ]
    },
    {
      "cell_type": "code",
      "source": [
        "import numpy as np\n",
        "codes = np.array([[1.0, 2.0, 3.0], [4.0, 5.0, 6.0], [7.0,8.0,9.0],[1.0,1.0,1.0],[2.0,3.0,4.0]])\n",
        "observation = np.array([3.0, 3.0, 3.0])\n",
        "squared_distances = np.sum((codes - observation)**2, axis=1)\n",
        "closest_code_index = np.argmin(squared_distances)\n",
        "closest_code = codes[closest_code_index]\n",
        "print(\"Closest code to the observation:\", closest_code)\n",
        "print(\"Distance between the observation and the closest code:\", squared_distances[closest_code_index])"
      ],
      "metadata": {
        "colab": {
          "base_uri": "https://localhost:8080/"
        },
        "id": "vAY1oS3tWgBU",
        "outputId": "b3a8c4cf-0ccf-40e4-f18a-ea52c047f9ac"
      },
      "execution_count": 39,
      "outputs": [
        {
          "output_type": "stream",
          "name": "stdout",
          "text": [
            "Closest code to the observation: [2. 3. 4.]\n",
            "Distance between the observation and the closest code: 2.0\n"
          ]
        }
      ]
    },
    {
      "cell_type": "markdown",
      "source": [
        "# Concatenation\n",
        "\n",
        "1. Write a program to vertically stack arrays using `np.vstack` and print the result: (Use any three 1D arrays) <br/>\n",
        "<br/>\n",
        "2. Write a program to horizontally stack arrays using `np.hstack`. Print the result: (Use any three 1D arrays) <br/>\n",
        "<br/>\n",
        "3. Given two 2D arrays of the same row size, horizontally stack them using `np.hstack` and print the result:<br/>\n",
        "`m = np.array([[2, 4], [3, 6]])`<br/>\n",
        "`n = np.array([[4, 8], [5, 10]])`<br/>\n",
        "<br/>\n",
        "4. Using `np.vstack`, stack the following arrays vertically and print the results:<br/>\n",
        "`a = np.array([11, 12, 13])`<br/>\n",
        "`b = np.array([[14, 15, 16], [17, 18, 19]])`<br/>\n",
        "<br/>\n",
        "5. Concatenate the following 2D arrays along different axes using `np.concatenate`. Demonstrate how to concatenate them along axis 0 and axis 1.<br/>\n",
        "`x = np.array([[1, 2], [3, 4]])`<br/>\n",
        "`y = np.array([[5, 6], [7, 8]])`<br/>\n",
        "`z = np.array([[9, 10], [11, 12]])`<br/>"
      ],
      "metadata": {
        "id": "ehP-oE00BN3l"
      }
    },
    {
      "cell_type": "code",
      "source": [
        "import numpy as np\n",
        "a=np.array([1,2,3])\n",
        "b=np.array([4,5,6])\n",
        "c=np.array([7,8,9])\n",
        "print(np.vstack((a,b,c)))"
      ],
      "metadata": {
        "colab": {
          "base_uri": "https://localhost:8080/"
        },
        "id": "7liruhPcWJeJ",
        "outputId": "140d25e9-6c18-45a7-c0e6-a2115d219679"
      },
      "execution_count": null,
      "outputs": [
        {
          "output_type": "stream",
          "name": "stdout",
          "text": [
            "[[1 2 3]\n",
            " [4 5 6]\n",
            " [7 8 9]]\n"
          ]
        }
      ]
    },
    {
      "cell_type": "code",
      "source": [
        "import numpy as np\n",
        "a=np.array([1,2,3])\n",
        "b=np.array([4,5,6])\n",
        "c=np.array([7,8,9])\n",
        "print(np.hstack((a,b,c)))"
      ],
      "metadata": {
        "colab": {
          "base_uri": "https://localhost:8080/"
        },
        "id": "5AbIq9ENWXY9",
        "outputId": "ac953e8e-42b7-4de5-86da-1babb33edf84"
      },
      "execution_count": null,
      "outputs": [
        {
          "output_type": "stream",
          "name": "stdout",
          "text": [
            "[1 2 3 4 5 6 7 8 9]\n"
          ]
        }
      ]
    },
    {
      "cell_type": "code",
      "source": [
        "import numpy as np\n",
        "m = np.array([[2, 4], [3, 6]])\n",
        "n = np.array([[4, 8], [5, 10]])\n",
        "\n",
        "print(np.hstack((m,n)))"
      ],
      "metadata": {
        "colab": {
          "base_uri": "https://localhost:8080/"
        },
        "id": "KRPrtdO1WeRR",
        "outputId": "6b141eb5-1058-489b-b891-4f26133224c9"
      },
      "execution_count": null,
      "outputs": [
        {
          "output_type": "stream",
          "name": "stdout",
          "text": [
            "[[ 2  4  4  8]\n",
            " [ 3  6  5 10]]\n"
          ]
        }
      ]
    },
    {
      "cell_type": "code",
      "source": [
        "import numpy as np\n",
        "a = np.array([11, 12, 13])\n",
        "b = np.array([[14, 15, 16], [17, 18, 19]])\n",
        "\n",
        "\n",
        "print(np.vstack((a,b)))"
      ],
      "metadata": {
        "colab": {
          "base_uri": "https://localhost:8080/"
        },
        "id": "uQpyBnc6YXxY",
        "outputId": "d7edb865-33ab-4727-8b91-9ab0cd40ae2c"
      },
      "execution_count": null,
      "outputs": [
        {
          "output_type": "stream",
          "name": "stdout",
          "text": [
            "[[11 12 13]\n",
            " [14 15 16]\n",
            " [17 18 19]]\n"
          ]
        }
      ]
    },
    {
      "cell_type": "code",
      "source": [
        "import numpy as np\n",
        "x = np.array([[1, 2], [3, 4]])\n",
        "y = np.array([[5, 6], [7, 8]])\n",
        "z = np.array([[9, 10], [11, 12]])\n",
        "print(np.concatenate((x,y,z),axis=0))\n",
        "print(np.concatenate((x,y,z),axis=1))\n",
        "\n"
      ],
      "metadata": {
        "colab": {
          "base_uri": "https://localhost:8080/"
        },
        "id": "1y6ALKCJYqyJ",
        "outputId": "7ed75e9d-1a0d-4e95-cf69-b7e24868a6fc"
      },
      "execution_count": null,
      "outputs": [
        {
          "output_type": "stream",
          "name": "stdout",
          "text": [
            "[[ 1  2]\n",
            " [ 3  4]\n",
            " [ 5  6]\n",
            " [ 7  8]\n",
            " [ 9 10]\n",
            " [11 12]]\n",
            "[[ 1  2  5  6  9 10]\n",
            " [ 3  4  7  8 11 12]]\n"
          ]
        }
      ]
    },
    {
      "cell_type": "markdown",
      "source": [
        "# Boolean Masking\n",
        "\n",
        "1. Use Boolean masking to filter elements from a 1D array:\n",
        "Write a program to create a 1D array and use Boolean masking to filter out all elements greater than 5.<br/>\n",
        "\n",
        "2. Apply a Boolean mask to a 2D array:\n",
        "Given the 2D array below, create a Boolean mask to select all elements greater than 10 and print the masked elements.<br/>\n",
        "`arr = np.array([[5, 12, 18], [7, 1, 3], [11, 6, 14]])`\n",
        " <br/>\n",
        "3. Create a Boolean mask using a condition on an array:\n",
        "Create a 1D array of integers from 0 to 10. Use a Boolean mask to filter out all even numbers and print the result.<br/>\n",
        "Example:\n",
        "`arr = np.arange(11)`\n",
        "<br/>\n",
        "4. Combine Boolean masks using logical operations:\n",
        "Given the array below, create and combine two Boolean masks:<br/>\n",
        "One mask selects elements greater than 5.\n",
        "The other mask selects elements divisible by 3.\n",
        "Combine the masks using logical AND and print the result.\n",
        "Example:\n",
        "`arr = np.array([1, 3, 6, 9, 12, 15])`\n",
        "<br/>\n",
        "5. Mask elements in a 2D array and replace them:\n",
        "Write a program to replace all elements less than 5 in the 2D array below with 0 using Boolean masking.\n",
        "<br/>\n",
        "6.  Count elements satisfying a condition using Boolean masks:\n",
        "Write a program to count how many elements in the array below are greater than 5.\n",
        "<br/>"
      ],
      "metadata": {
        "id": "NCs1VlmHiFli"
      }
    },
    {
      "cell_type": "code",
      "source": [
        "import numpy as np\n",
        "arr=np.array([1,2,3,4,5,6,7,8,9])\n",
        "mask=arr>5\n",
        "print(arr[mask])\n",
        "\n"
      ],
      "metadata": {
        "id": "KhZHXpi2A4nQ",
        "colab": {
          "base_uri": "https://localhost:8080/"
        },
        "outputId": "6e9a2c58-dab7-4560-ac73-bd2cb64e412a"
      },
      "execution_count": null,
      "outputs": [
        {
          "output_type": "stream",
          "name": "stdout",
          "text": [
            "[6 7 8 9]\n"
          ]
        }
      ]
    },
    {
      "cell_type": "code",
      "source": [
        "import numpy as np\n",
        "arr = np.array([[5, 12, 18], [7, 1, 3], [11, 6, 14]])\n",
        "mask=arr>10\n",
        "print(arr[mask])\n",
        "\n",
        "\n"
      ],
      "metadata": {
        "colab": {
          "base_uri": "https://localhost:8080/"
        },
        "id": "PKXGE7O5cegA",
        "outputId": "eb0ca63d-15ae-4b92-ee57-79d18c5ba3e5"
      },
      "execution_count": null,
      "outputs": [
        {
          "output_type": "stream",
          "name": "stdout",
          "text": [
            "[12 18 11 14]\n"
          ]
        }
      ]
    },
    {
      "cell_type": "code",
      "source": [
        "import numpy as np\n",
        "arr=np.arange(11)\n",
        "mask=arr%2==0\n",
        "print(arr[mask])"
      ],
      "metadata": {
        "colab": {
          "base_uri": "https://localhost:8080/"
        },
        "id": "ozZ6heqKdFON",
        "outputId": "7295cda9-a07e-49ba-f4dd-adb5cb7dd466"
      },
      "execution_count": null,
      "outputs": [
        {
          "output_type": "stream",
          "name": "stdout",
          "text": [
            "[ 0  2  4  6  8 10]\n"
          ]
        }
      ]
    },
    {
      "cell_type": "code",
      "source": [
        "import numpy as np\n",
        "arr = np.array([1, 3, 6, 9, 12, 15])\n",
        "mask1=arr>5\n",
        "mask2=arr%3==0\n",
        "print(arr[mask1&mask2])"
      ],
      "metadata": {
        "colab": {
          "base_uri": "https://localhost:8080/"
        },
        "id": "hQktdol_dMXm",
        "outputId": "3dc9eb24-a7c8-4a86-b8a5-9687733e1b7e"
      },
      "execution_count": null,
      "outputs": [
        {
          "output_type": "stream",
          "name": "stdout",
          "text": [
            "[ 6  9 12 15]\n"
          ]
        }
      ]
    },
    {
      "cell_type": "code",
      "source": [
        "import numpy as np\n",
        "arr = np.array([[17, 5, 45], [74, 13, 3], [11, 61, 14]])\n",
        "mask=arr<5\n",
        "arr[mask]=0\n",
        "print(arr)"
      ],
      "metadata": {
        "colab": {
          "base_uri": "https://localhost:8080/"
        },
        "id": "js0ZPCPTdT3h",
        "outputId": "bb3d63cb-a92b-4440-a8dc-14dbcbdd1256"
      },
      "execution_count": null,
      "outputs": [
        {
          "output_type": "stream",
          "name": "stdout",
          "text": [
            "[[17  5 45]\n",
            " [74 13  0]\n",
            " [11 61 14]]\n"
          ]
        }
      ]
    },
    {
      "cell_type": "code",
      "source": [
        "import numpy as np\n",
        "arr = np.array([1, 3, 6, 9, 12, 15])\n",
        "mask=arr>5\n",
        "print(np.sum(mask))"
      ],
      "metadata": {
        "id": "D6RRjyGndY9F",
        "colab": {
          "base_uri": "https://localhost:8080/"
        },
        "outputId": "849fa7eb-eb6a-4c25-b713-9cee02f8d181"
      },
      "execution_count": 49,
      "outputs": [
        {
          "output_type": "stream",
          "name": "stdout",
          "text": [
            "4\n"
          ]
        }
      ]
    }
  ]
}